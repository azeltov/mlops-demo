{
 "cells": [
  {
   "cell_type": "markdown",
   "metadata": {},
   "source": [
    "# Test against QA environement"
   ]
  },
  {
   "cell_type": "code",
   "execution_count": null,
   "metadata": {},
   "outputs": [],
   "source": [
    "import requests\n",
    "import json\n",
    "\n",
    "url = 'http://5a43dda9-c9ef-4544-ab69-edd9f2e1f98a.eastus2.azurecontainer.io/score'\n",
    "\n",
    "test_sample = json.dumps({\n",
    "  'data': [{\n",
    "    \"Age\": 20,\n",
    "    \"Sex\": \"male\",\n",
    "    \"Job\": 0,\n",
    "    \"Housing\": \"own\",\n",
    "    \"Saving accounts\": \"little\",\n",
    "    \"Checking account\": \"little\",\n",
    "    \"Credit amount\": 100,\n",
    "    \"Duration\": 48,\n",
    "    \"Purpose\": \"radio/TV\"\n",
    "  }]\n",
    "})\n",
    "\n",
    "test_sample = bytes(test_sample,encoding = 'utf8')\n",
    "\n",
    "headers = {'Content-Type':'application/json'}\n",
    "resp = requests.post(url, test_sample, headers=headers)\n",
    "\n",
    "print(\"prediction:\", resp.text)"
   ]
  },
  {
   "cell_type": "markdown",
   "metadata": {},
   "source": [
    "# Test against production environment"
   ]
  },
  {
   "cell_type": "code",
   "execution_count": null,
   "metadata": {},
   "outputs": [],
   "source": [
    "import requests\n",
    "import json\n",
    "\n",
    "url = 'http://13.90.247.64:80/api/v1/service/german-credit-prod-1/score'\n",
    "\n",
    "test_sample = json.dumps({\n",
    "  'data': [{\n",
    "    \"Age\": 20,\n",
    "    \"Sex\": \"male\",\n",
    "    \"Job\": 0,\n",
    "    \"Housing\": \"own\",\n",
    "    \"Saving accounts\": \"little\",\n",
    "    \"Checking account\": \"little\",\n",
    "    \"Credit amount\": 100,\n",
    "    \"Duration\": 48,\n",
    "    \"Purpose\": \"radio/TV\"\n",
    "  }]\n",
    "})\n",
    "\n",
    "test_sample = bytes(test_sample,encoding = 'utf8')\n",
    "\n",
    "headers = {'Content-Type':'application/json', 'Authorization': 'Bearer ' + '5lUCgCO8bLq9BzpHMOCcTh5irwYN1tAv'}\n",
    "resp = requests.post(url, test_sample, headers=headers)\n",
    "\n",
    "print(\"prediction (good, bad):\", resp.text)"
   ]
  }
 ],
 "metadata": {
  "kernelspec": {
   "display_name": "Python 3.6 - AzureML",
   "language": "python",
   "name": "python3-azureml"
  },
  "language_info": {
   "codemirror_mode": {
    "name": "ipython",
    "version": 3
   },
   "file_extension": ".py",
   "mimetype": "text/x-python",
   "name": "python",
   "nbconvert_exporter": "python",
   "pygments_lexer": "ipython3",
   "version": "3.6.9"
  }
 },
 "nbformat": 4,
 "nbformat_minor": 2
}
